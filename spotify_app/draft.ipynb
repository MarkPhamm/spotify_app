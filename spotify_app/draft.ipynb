{
 "cells": [
  {
   "cell_type": "code",
   "execution_count": 1,
   "metadata": {},
   "outputs": [],
   "source": [
    "import pandas as pd"
   ]
  },
  {
   "cell_type": "code",
   "execution_count": 4,
   "metadata": {},
   "outputs": [],
   "source": [
    "artist_songs_df = pd.read_csv(r\"static\\data\\artist_songs_df.csv\")"
   ]
  },
  {
   "cell_type": "code",
   "execution_count": 19,
   "metadata": {},
   "outputs": [
    {
     "data": {
      "text/plain": [
       "'Starboy'"
      ]
     },
     "execution_count": 19,
     "metadata": {},
     "output_type": "execute_result"
    }
   ],
   "source": [
    "best_song = artist_songs_df.sort_values('popularity', ascending = False)['name'].reset_index(drop=True)[0]\n",
    "best_song"
   ]
  },
  {
   "cell_type": "code",
   "execution_count": null,
   "metadata": {},
   "outputs": [],
   "source": [
    "# print(artist_songs_in_album_df.head())\n",
    "# print(artist_songs_df)\n",
    "# print(artist_album_df)\n",
    "\n",
    "# all_time_df.to_csv(r\"spotify_app\\static\\data\\all_time_df.csv\")\n",
    "# all_time_artist_df.to_csv(r\"spotify_app\\static\\data\\all_time_artist_df.csv\")\n",
    "# all_time_album_df.to_csv(r\"spotify_app\\static\\data\\all_time_album_df.csv\")\n",
    "# all_time_song_df.to_csv(r\"spotify_app\\static\\data\\all_time_song_df.csv\")\n",
    "\n",
    "# artist_album_df.to_csv(r\"spotify_app\\static\\data\\artist_album_df.csv\")\n",
    "# artist_songs_df.to_csv(r\"spotify_app\\static\\data\\artist_songs_df.csv\")\n",
    "# artist_songs_in_album_df.to_csv(r\"spotify_app\\static\\data\\artist_songs_in_album_df.csv\")"
   ]
  }
 ],
 "metadata": {
  "kernelspec": {
   "display_name": "base",
   "language": "python",
   "name": "python3"
  },
  "language_info": {
   "codemirror_mode": {
    "name": "ipython",
    "version": 3
   },
   "file_extension": ".py",
   "mimetype": "text/x-python",
   "name": "python",
   "nbconvert_exporter": "python",
   "pygments_lexer": "ipython3",
   "version": "3.11.5"
  }
 },
 "nbformat": 4,
 "nbformat_minor": 2
}
